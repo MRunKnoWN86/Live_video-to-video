{
 "cells": [
  {
   "cell_type": "code",
   "execution_count": 1,
   "id": "dee31385",
   "metadata": {},
   "outputs": [],
   "source": [
    "import cv2\n",
    "import numpy as np"
   ]
  },
  {
   "cell_type": "code",
   "execution_count": 2,
   "id": "c6a832df",
   "metadata": {},
   "outputs": [],
   "source": [
    "cap = cv2.VideoCapture(0)"
   ]
  },
  {
   "cell_type": "code",
   "execution_count": 3,
   "id": "e11ceec8",
   "metadata": {},
   "outputs": [],
   "source": [
    " model = cv2.CascadeClassifier(\"cascade.xml\")"
   ]
  },
  {
   "cell_type": "code",
   "execution_count": 4,
   "id": "9b42bae4",
   "metadata": {},
   "outputs": [],
   "source": [
    "while True:\n",
    "    \n",
    "    ret , photo = cap.read()\n",
    "    fdetect = model.detectMultiScale(photo)\n",
    "    \n",
    "    if len(fdetect) == 0:\n",
    "        print(\"no face\")\n",
    "    else:\n",
    "        x1 = fdetect[0][0]\n",
    "        y1 = fdetect[0][1]\n",
    "        x2 = x1 + fdetect[0][2]\n",
    "        y2 = y1 + fdetect[0][3]\n",
    "        crop = photo[ y1:y2 , x1:x2 ]\n",
    "        cv2.imshow('my_photo',photo)\n",
    "        cv2.imshow('crop_photo',crop)\n",
    "        if cv2.waitKey(10) == 13:\n",
    "            break\n",
    "        \n",
    "        \n",
    "cv2.destroyAllWindows()\n",
    "cap.release()"
   ]
  },
  {
   "cell_type": "code",
   "execution_count": 11,
   "id": "2bd22bed",
   "metadata": {},
   "outputs": [],
   "source": [
    "\n"
   ]
  },
  {
   "cell_type": "code",
   "execution_count": null,
   "id": "c4fa7f18",
   "metadata": {},
   "outputs": [],
   "source": []
  }
 ],
 "metadata": {
  "kernelspec": {
   "display_name": "Python 3",
   "language": "python",
   "name": "python3"
  },
  "language_info": {
   "codemirror_mode": {
    "name": "ipython",
    "version": 3
   },
   "file_extension": ".py",
   "mimetype": "text/x-python",
   "name": "python",
   "nbconvert_exporter": "python",
   "pygments_lexer": "ipython3",
   "version": "3.8.8"
  }
 },
 "nbformat": 4,
 "nbformat_minor": 5
}
